{
 "cells": [
  {
   "cell_type": "code",
   "execution_count": 1,
   "metadata": {},
   "outputs": [],
   "source": [
    "from datetime import datetime as dt\n",
    "import pyautogui as pa\n",
    "import json\n",
    "import os\n",
    "import random\n",
    "import time\n",
    "import pandas as pd\n",
    "\n",
    "\n",
    "WORK_PATH = 'C:\\\\Users\\\\AYarin.StreetArt\\\\Desktop\\\\accounts'"
   ]
  },
  {
   "cell_type": "code",
   "execution_count": 2,
   "metadata": {},
   "outputs": [],
   "source": [
    "with open('jsons/coordinates.json', 'r') as f: coor = json.load(f)"
   ]
  },
  {
   "cell_type": "code",
   "execution_count": 3,
   "metadata": {},
   "outputs": [],
   "source": [
    "c_h = coor['quests']['pocket']"
   ]
  },
  {
   "cell_type": "code",
   "execution_count": 6,
   "metadata": {},
   "outputs": [],
   "source": [
    "pa.moveTo(1777, 676,duration=0.4)"
   ]
  },
  {
   "cell_type": "code",
   "execution_count": 29,
   "metadata": {},
   "outputs": [
    {
     "data": {
      "text/plain": [
       "Point(x=1695, y=770)"
      ]
     },
     "execution_count": 29,
     "metadata": {},
     "output_type": "execute_result"
    }
   ],
   "source": [
    "pa.position()"
   ]
  },
  {
   "cell_type": "code",
   "execution_count": 27,
   "metadata": {},
   "outputs": [
    {
     "ename": "KeyError",
     "evalue": "'scroll_bar'",
     "output_type": "error",
     "traceback": [
      "\u001b[1;31m---------------------------------------------------------------------------\u001b[0m",
      "\u001b[1;31mKeyError\u001b[0m                                  Traceback (most recent call last)",
      "Cell \u001b[1;32mIn[27], line 7\u001b[0m\n\u001b[0;32m      5\u001b[0m pa\u001b[38;5;241m.\u001b[39mclick(\u001b[38;5;241m*\u001b[39mc_h[\u001b[38;5;124m'\u001b[39m\u001b[38;5;124mstore2\u001b[39m\u001b[38;5;124m'\u001b[39m], duration\u001b[38;5;241m=\u001b[39md)\n\u001b[0;32m      6\u001b[0m \u001b[38;5;66;03m#scrollbar down\u001b[39;00m\n\u001b[1;32m----> 7\u001b[0m pa\u001b[38;5;241m.\u001b[39mmoveTo(\u001b[38;5;241m*\u001b[39m\u001b[43mc_h\u001b[49m\u001b[43m[\u001b[49m\u001b[38;5;124;43m'\u001b[39;49m\u001b[38;5;124;43mscroll_bar\u001b[39;49m\u001b[38;5;124;43m'\u001b[39;49m\u001b[43m]\u001b[49m, duration\u001b[38;5;241m=\u001b[39md)\n\u001b[0;32m      8\u001b[0m pa\u001b[38;5;241m.\u001b[39mdrag(\u001b[38;5;241m0\u001b[39m, \u001b[38;5;241m100\u001b[39m, button\u001b[38;5;241m=\u001b[39m\u001b[38;5;124m'\u001b[39m\u001b[38;5;124mleft\u001b[39m\u001b[38;5;124m'\u001b[39m, duration\u001b[38;5;241m=\u001b[39m\u001b[38;5;241m0.7\u001b[39m)\n\u001b[0;32m      9\u001b[0m     \u001b[38;5;66;03m#buy clicks\u001b[39;00m\n",
      "\u001b[1;31mKeyError\u001b[0m: 'scroll_bar'"
     ]
    }
   ],
   "source": [
    "d = 0.5\n",
    "#store in\n",
    "pa.click(*c_h['store'], duration=d)\n",
    "    #store2\n",
    "pa.click(*c_h['store2'], duration=d)\n",
    "#scrollbar down\n",
    "pa.moveTo(*c_h['scroll_bar'], duration=d)\n",
    "pa.drag(0, 100, button='left', duration=0.7)\n",
    "    #buy clicks\n",
    "pa.position(*s_h['clicks'], duration=d)\n",
    "    #main menu\n",
    "pa.position(*s_h['main_menu'], duration=d)\n",
    "time.sleep(2)"
   ]
  },
  {
   "cell_type": "code",
   "execution_count": 17,
   "metadata": {},
   "outputs": [
    {
     "data": {
      "text/plain": [
       "Point(x=1692, y=771)"
      ]
     },
     "execution_count": 17,
     "metadata": {},
     "output_type": "execute_result"
    }
   ],
   "source": [
    "#store in\n",
    "pa.click(1765, 772)\n",
    "#stroe2\n",
    "pa.click(1743, 270)\n",
    "#scrollbar down\n",
    "pa.moveTo()\n",
    "pa.drag()\n",
    "#buy clicks\n",
    "pa.position(1780, 675)\n",
    "#main menu\n",
    "pa.position(1692, 771)"
   ]
  },
  {
   "cell_type": "code",
   "execution_count": 2,
   "metadata": {},
   "outputs": [],
   "source": [
    "def create_basic_dict():\n",
    "    #списки квестов и аккаунтов\n",
    "    acc_list = [elem.replace('.lnk', '')for elem in os.listdir(WORK_PATH)]\n",
    "\n",
    "    with open('jsons/q_a.json', 'r') as f: data = json.load(f)\n",
    "    quest_list = list(data['quests'].values())\n",
    "\n",
    "    #создание нулевого словаря\n",
    "    basic_dict ={}\n",
    "    for acc in acc_list:\n",
    "        for quest in quest_list:\n",
    "            basic_dict.setdefault(acc, {})\n",
    "\n",
    "    for key in basic_dict.keys():\n",
    "        for quest in quest_list:\n",
    "            basic_dict[key][quest] = ''\n",
    "            \n",
    "    return basic_dict"
   ]
  },
  {
   "cell_type": "code",
   "execution_count": 3,
   "metadata": {},
   "outputs": [],
   "source": [
    "d = create_basic_dict()"
   ]
  },
  {
   "cell_type": "code",
   "execution_count": 4,
   "metadata": {},
   "outputs": [],
   "source": [
    "with open('jsons/stat.json', 'r') as f:\n",
    "    stat = json.load(f)"
   ]
  },
  {
   "cell_type": "code",
   "execution_count": 5,
   "metadata": {},
   "outputs": [],
   "source": [
    "accounts = stat.keys()\n",
    "quests = stat['Amanda Hart'].keys()"
   ]
  },
  {
   "cell_type": "code",
   "execution_count": 6,
   "metadata": {},
   "outputs": [
    {
     "data": {
      "text/html": [
       "<div>\n",
       "<style scoped>\n",
       "    .dataframe tbody tr th:only-of-type {\n",
       "        vertical-align: middle;\n",
       "    }\n",
       "\n",
       "    .dataframe tbody tr th {\n",
       "        vertical-align: top;\n",
       "    }\n",
       "\n",
       "    .dataframe thead th {\n",
       "        text-align: right;\n",
       "    }\n",
       "</style>\n",
       "<table border=\"1\" class=\"dataframe\">\n",
       "  <thead>\n",
       "    <tr style=\"text-align: right;\">\n",
       "      <th></th>\n",
       "      <th>Amanda Hart</th>\n",
       "      <th>Amanda Scott</th>\n",
       "      <th>Dawn Miller</th>\n",
       "      <th>Erica Grant</th>\n",
       "      <th>Haley Gallagher</th>\n",
       "      <th>Jennifer Wong</th>\n",
       "      <th>Jill Barrera</th>\n",
       "      <th>Kathleen Smith</th>\n",
       "      <th>Melissa Erickson</th>\n",
       "      <th>Stacy Norton</th>\n",
       "    </tr>\n",
       "  </thead>\n",
       "  <tbody>\n",
       "    <tr>\n",
       "      <th>Hexacore Gaming Universe | AGO</th>\n",
       "      <td>[]</td>\n",
       "      <td>[]</td>\n",
       "      <td>[]</td>\n",
       "      <td>[]</td>\n",
       "      <td>[]</td>\n",
       "      <td>[]</td>\n",
       "      <td>[]</td>\n",
       "      <td>[]</td>\n",
       "      <td>[]</td>\n",
       "      <td>[]</td>\n",
       "    </tr>\n",
       "    <tr>\n",
       "      <th>PocketFi</th>\n",
       "      <td>[C]</td>\n",
       "      <td>[C]</td>\n",
       "      <td>[C]</td>\n",
       "      <td>[C]</td>\n",
       "      <td>[C]</td>\n",
       "      <td>[C]</td>\n",
       "      <td>[C]</td>\n",
       "      <td>[C]</td>\n",
       "      <td>[C]</td>\n",
       "      <td>[C]</td>\n",
       "    </tr>\n",
       "    <tr>\n",
       "      <th>snapster trading bot</th>\n",
       "      <td>[]</td>\n",
       "      <td>[]</td>\n",
       "      <td>[]</td>\n",
       "      <td>[]</td>\n",
       "      <td>[]</td>\n",
       "      <td>[]</td>\n",
       "      <td>[]</td>\n",
       "      <td>[]</td>\n",
       "      <td>[]</td>\n",
       "      <td>[]</td>\n",
       "    </tr>\n",
       "    <tr>\n",
       "      <th>Yescoin</th>\n",
       "      <td>[C]</td>\n",
       "      <td>[C]</td>\n",
       "      <td>[C]</td>\n",
       "      <td>[C]</td>\n",
       "      <td>[C]</td>\n",
       "      <td>[C]</td>\n",
       "      <td>[C]</td>\n",
       "      <td>[C]</td>\n",
       "      <td>[C]</td>\n",
       "      <td>[C]</td>\n",
       "    </tr>\n",
       "    <tr>\n",
       "      <th>Blum</th>\n",
       "      <td>[C]</td>\n",
       "      <td>[C]</td>\n",
       "      <td>[C]</td>\n",
       "      <td>[C]</td>\n",
       "      <td>[C]</td>\n",
       "      <td>[C]</td>\n",
       "      <td>[C]</td>\n",
       "      <td>[C]</td>\n",
       "      <td>[C]</td>\n",
       "      <td>[C]</td>\n",
       "    </tr>\n",
       "    <tr>\n",
       "      <th>TabiZoo</th>\n",
       "      <td>[C]</td>\n",
       "      <td>[C]</td>\n",
       "      <td>[C]</td>\n",
       "      <td>[C]</td>\n",
       "      <td>[C]</td>\n",
       "      <td>[C]</td>\n",
       "      <td>[C]</td>\n",
       "      <td>[C]</td>\n",
       "      <td>[C]</td>\n",
       "      <td>[C]</td>\n",
       "    </tr>\n",
       "    <tr>\n",
       "      <th>Dogs</th>\n",
       "      <td>[C]</td>\n",
       "      <td>[C]</td>\n",
       "      <td>[C]</td>\n",
       "      <td>[C]</td>\n",
       "      <td>[C]</td>\n",
       "      <td>[C]</td>\n",
       "      <td>[C]</td>\n",
       "      <td>[C]</td>\n",
       "      <td>[C]</td>\n",
       "      <td>[C]</td>\n",
       "    </tr>\n",
       "  </tbody>\n",
       "</table>\n",
       "</div>"
      ],
      "text/plain": [
       "                               Amanda Hart Amanda Scott Dawn Miller  \\\n",
       "Hexacore Gaming Universe | AGO          []           []          []   \n",
       "PocketFi                               [C]          [C]         [C]   \n",
       "snapster trading bot                    []           []          []   \n",
       "Yescoin                                [C]          [C]         [C]   \n",
       "Blum                                   [C]          [C]         [C]   \n",
       "TabiZoo                                [C]          [C]         [C]   \n",
       "Dogs                                   [C]          [C]         [C]   \n",
       "\n",
       "                               Erica Grant Haley Gallagher Jennifer Wong  \\\n",
       "Hexacore Gaming Universe | AGO          []              []            []   \n",
       "PocketFi                               [C]             [C]           [C]   \n",
       "snapster trading bot                    []              []            []   \n",
       "Yescoin                                [C]             [C]           [C]   \n",
       "Blum                                   [C]             [C]           [C]   \n",
       "TabiZoo                                [C]             [C]           [C]   \n",
       "Dogs                                   [C]             [C]           [C]   \n",
       "\n",
       "                               Jill Barrera Kathleen Smith Melissa Erickson  \\\n",
       "Hexacore Gaming Universe | AGO           []             []               []   \n",
       "PocketFi                                [C]            [C]              [C]   \n",
       "snapster trading bot                     []             []               []   \n",
       "Yescoin                                 [C]            [C]              [C]   \n",
       "Blum                                    [C]            [C]              [C]   \n",
       "TabiZoo                                 [C]            [C]              [C]   \n",
       "Dogs                                    [C]            [C]              [C]   \n",
       "\n",
       "                               Stacy Norton  \n",
       "Hexacore Gaming Universe | AGO           []  \n",
       "PocketFi                                [C]  \n",
       "snapster trading bot                     []  \n",
       "Yescoin                                 [C]  \n",
       "Blum                                    [C]  \n",
       "TabiZoo                                 [C]  \n",
       "Dogs                                    [C]  "
      ]
     },
     "execution_count": 6,
     "metadata": {},
     "output_type": "execute_result"
    }
   ],
   "source": [
    "data = pd.read_json('jsons/stat.json')\n",
    "data"
   ]
  },
  {
   "cell_type": "code",
   "execution_count": 7,
   "metadata": {},
   "outputs": [],
   "source": [
    "some = data['Amanda Hart'].value_counts()"
   ]
  },
  {
   "cell_type": "code",
   "execution_count": 12,
   "metadata": {},
   "outputs": [],
   "source": [
    "data.to_excel('exes.xlsx')"
   ]
  },
  {
   "cell_type": "code",
   "execution_count": null,
   "metadata": {},
   "outputs": [],
   "source": [
    "data.to_excel()"
   ]
  }
 ],
 "metadata": {
  "kernelspec": {
   "display_name": "Python 3",
   "language": "python",
   "name": "python3"
  },
  "language_info": {
   "codemirror_mode": {
    "name": "ipython",
    "version": 3
   },
   "file_extension": ".py",
   "mimetype": "text/x-python",
   "name": "python",
   "nbconvert_exporter": "python",
   "pygments_lexer": "ipython3",
   "version": "3.12.4"
  }
 },
 "nbformat": 4,
 "nbformat_minor": 2
}
