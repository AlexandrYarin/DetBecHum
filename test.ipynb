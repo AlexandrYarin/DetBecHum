{
 "cells": [
  {
   "cell_type": "code",
   "execution_count": 1,
   "metadata": {},
   "outputs": [],
   "source": [
    "from datetime import datetime as dt\n",
    "import pyautogui as pa\n",
    "import json\n",
    "import os\n",
    "import random\n",
    "import time\n",
    "\n",
    "WORK_PATH = 'C:\\\\Users\\\\AYarin.StreetArt\\\\Desktop\\\\accounts'"
   ]
  },
  {
   "cell_type": "code",
   "execution_count": 11,
   "metadata": {},
   "outputs": [],
   "source": [
    "with open('jsons/coordinates.json', 'r') as f:\n",
    "    coor = json.load(f)"
   ]
  },
  {
   "cell_type": "code",
   "execution_count": 12,
   "metadata": {},
   "outputs": [],
   "source": [
    "buttons_p = coor['quests']['pocket']"
   ]
  },
  {
   "cell_type": "code",
   "execution_count": 13,
   "metadata": {},
   "outputs": [],
   "source": [
    "def pocket(mode):\n",
    "    \n",
    "    pa.click(*buttons_p['start'], duration=1)\n",
    "    time.sleep(7)\n",
    "    \n",
    "    for i in range(3):\n",
    "        pa.click(*buttons_p['claim'], duration=0.3)\n",
    "        time.sleep(0.5)\n",
    "    time.sleep(1.5)\n",
    "    pa.click(*buttons_p['tasks'])\n",
    "    time.sleep(1.5)\n",
    "    pa.click(*buttons_p['daily'])\n",
    "    time.sleep(1.5)\n",
    "    pa.click(*buttons_p['take_reward'])\n",
    "    time.sleep(3)\n",
    "    \n",
    "    \n",
    "    pa.click(*c_gram['exit_quest'])\n",
    "    time.sleep(1.5)"
   ]
  },
  {
   "cell_type": "code",
   "execution_count": 14,
   "metadata": {},
   "outputs": [
    {
     "data": {
      "text/plain": [
       "Point(x=719, y=172)"
      ]
     },
     "execution_count": 14,
     "metadata": {},
     "output_type": "execute_result"
    }
   ],
   "source": [
    "pa.position()"
   ]
  },
  {
   "cell_type": "code",
   "execution_count": 15,
   "metadata": {},
   "outputs": [
    {
     "ename": "NameError",
     "evalue": "name 'c_gram' is not defined",
     "output_type": "error",
     "traceback": [
      "\u001b[1;31m---------------------------------------------------------------------------\u001b[0m",
      "\u001b[1;31mNameError\u001b[0m                                 Traceback (most recent call last)",
      "Cell \u001b[1;32mIn[15], line 1\u001b[0m\n\u001b[1;32m----> 1\u001b[0m \u001b[43mpocket\u001b[49m\u001b[43m(\u001b[49m\u001b[38;5;124;43m'\u001b[39;49m\u001b[38;5;124;43mclaim\u001b[39;49m\u001b[38;5;124;43m'\u001b[39;49m\u001b[43m)\u001b[49m\n",
      "Cell \u001b[1;32mIn[13], line 18\u001b[0m, in \u001b[0;36mpocket\u001b[1;34m(mode)\u001b[0m\n\u001b[0;32m     14\u001b[0m pa\u001b[38;5;241m.\u001b[39mclick(\u001b[38;5;241m*\u001b[39mbuttons_p[\u001b[38;5;124m'\u001b[39m\u001b[38;5;124mtake_reward\u001b[39m\u001b[38;5;124m'\u001b[39m])\n\u001b[0;32m     15\u001b[0m time\u001b[38;5;241m.\u001b[39msleep(\u001b[38;5;241m3\u001b[39m)\n\u001b[1;32m---> 18\u001b[0m pa\u001b[38;5;241m.\u001b[39mclick(\u001b[38;5;241m*\u001b[39m\u001b[43mc_gram\u001b[49m[\u001b[38;5;124m'\u001b[39m\u001b[38;5;124mexit_quest\u001b[39m\u001b[38;5;124m'\u001b[39m])\n\u001b[0;32m     19\u001b[0m time\u001b[38;5;241m.\u001b[39msleep(\u001b[38;5;241m1.5\u001b[39m)\n",
      "\u001b[1;31mNameError\u001b[0m: name 'c_gram' is not defined"
     ]
    }
   ],
   "source": [
    "pocket('claim')"
   ]
  },
  {
   "cell_type": "code",
   "execution_count": 57,
   "metadata": {},
   "outputs": [],
   "source": [
    "with open('jsons/coordinates.json', 'r') as f:\n",
    "    coor = json.load(f)"
   ]
  },
  {
   "cell_type": "code",
   "execution_count": 76,
   "metadata": {},
   "outputs": [],
   "source": [
    "def create_basic_dict():\n",
    "    #списки квестов и аккаунтов\n",
    "    acc_list = [elem.replace('.lnk', '')for elem in os.listdir(WORK_PATH)]\n",
    "\n",
    "    with open('jsons/q_a.json', 'r') as f: data = json.load(f)\n",
    "    quest_list = list(data['quests'].values())\n",
    "\n",
    "    #создание нулевого словаря\n",
    "    basic_dict ={}\n",
    "    for acc in acc_list:\n",
    "        for quest in quest_list:\n",
    "            basic_dict.setdefault(acc, {})\n",
    "\n",
    "    for key in basic_dict.keys():\n",
    "        for quest in quest_list:\n",
    "            basic_dict[key][quest] = []\n",
    "            \n",
    "    with open('jsons/stat.json', 'w') as file: json.dump(basic_dict, file)"
   ]
  },
  {
   "cell_type": "code",
   "execution_count": 81,
   "metadata": {},
   "outputs": [],
   "source": [
    "with open('jsons/stat.json', 'r') as file: stat_dict = json.load(file)"
   ]
  },
  {
   "cell_type": "code",
   "execution_count": 83,
   "metadata": {},
   "outputs": [
    {
     "data": {
      "text/plain": [
       "{'Amanda Hart': {'Hexacore Gaming Universe | AGO': [],\n",
       "  'PocketFi': [],\n",
       "  'snapster trading bot': [],\n",
       "  'Yescoin': [],\n",
       "  'Blum': [],\n",
       "  'TabiZoo': [],\n",
       "  'Dogs': []},\n",
       " 'Amanda Scott': {'Hexacore Gaming Universe | AGO': [],\n",
       "  'PocketFi': [],\n",
       "  'snapster trading bot': [],\n",
       "  'Yescoin': [],\n",
       "  'Blum': [],\n",
       "  'TabiZoo': [],\n",
       "  'Dogs': []},\n",
       " 'Dawn Miller': {'Hexacore Gaming Universe | AGO': [],\n",
       "  'PocketFi': [],\n",
       "  'snapster trading bot': [],\n",
       "  'Yescoin': [],\n",
       "  'Blum': [],\n",
       "  'TabiZoo': [],\n",
       "  'Dogs': []},\n",
       " 'Erica Grant': {'Hexacore Gaming Universe | AGO': [],\n",
       "  'PocketFi': [],\n",
       "  'snapster trading bot': [],\n",
       "  'Yescoin': [],\n",
       "  'Blum': [],\n",
       "  'TabiZoo': [],\n",
       "  'Dogs': []},\n",
       " 'Haley Gallagher': {'Hexacore Gaming Universe | AGO': [],\n",
       "  'PocketFi': [],\n",
       "  'snapster trading bot': [],\n",
       "  'Yescoin': [],\n",
       "  'Blum': [],\n",
       "  'TabiZoo': [],\n",
       "  'Dogs': []},\n",
       " 'Jennifer Wong': {'Hexacore Gaming Universe | AGO': [],\n",
       "  'PocketFi': [],\n",
       "  'snapster trading bot': [],\n",
       "  'Yescoin': [],\n",
       "  'Blum': [],\n",
       "  'TabiZoo': [],\n",
       "  'Dogs': []},\n",
       " 'Jill Barrera': {'Hexacore Gaming Universe | AGO': [],\n",
       "  'PocketFi': [],\n",
       "  'snapster trading bot': [],\n",
       "  'Yescoin': [],\n",
       "  'Blum': [],\n",
       "  'TabiZoo': [],\n",
       "  'Dogs': []},\n",
       " 'Kathleen Smith': {'Hexacore Gaming Universe | AGO': [],\n",
       "  'PocketFi': [],\n",
       "  'snapster trading bot': [],\n",
       "  'Yescoin': [],\n",
       "  'Blum': [],\n",
       "  'TabiZoo': [],\n",
       "  'Dogs': []},\n",
       " 'Melissa Erickson': {'Hexacore Gaming Universe | AGO': [],\n",
       "  'PocketFi': [],\n",
       "  'snapster trading bot': [],\n",
       "  'Yescoin': [],\n",
       "  'Blum': [],\n",
       "  'TabiZoo': [],\n",
       "  'Dogs': []},\n",
       " 'Stacy Norton': {'Hexacore Gaming Universe | AGO': [],\n",
       "  'PocketFi': [],\n",
       "  'snapster trading bot': [],\n",
       "  'Yescoin': [],\n",
       "  'Blum': [],\n",
       "  'TabiZoo': [],\n",
       "  'Dogs': []}}"
      ]
     },
     "execution_count": 83,
     "metadata": {},
     "output_type": "execute_result"
    }
   ],
   "source": [
    "stat_dict"
   ]
  },
  {
   "cell_type": "code",
   "execution_count": 85,
   "metadata": {},
   "outputs": [],
   "source": [
    "def write_stat(account, quest, mode):\n",
    "    \n",
    "    stat_dict[account][quest].append(mode[0].upper())"
   ]
  }
 ],
 "metadata": {
  "kernelspec": {
   "display_name": "Python 3",
   "language": "python",
   "name": "python3"
  },
  "language_info": {
   "codemirror_mode": {
    "name": "ipython",
    "version": 3
   },
   "file_extension": ".py",
   "mimetype": "text/x-python",
   "name": "python",
   "nbconvert_exporter": "python",
   "pygments_lexer": "ipython3",
   "version": "3.12.4"
  }
 },
 "nbformat": 4,
 "nbformat_minor": 2
}
