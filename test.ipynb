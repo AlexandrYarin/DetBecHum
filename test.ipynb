{
 "cells": [
  {
   "cell_type": "code",
   "execution_count": 1,
   "metadata": {},
   "outputs": [],
   "source": [
    "from datetime import datetime as dt\n",
    "import pyautogui as pa\n",
    "import json\n",
    "import os\n",
    "import random\n",
    "import time\n",
    "#import pandas as pd\n",
    "#import matplotlib.pyplot as plt\n",
    "#import seaborn as sns\n",
    "from getpass import getuser\n",
    "import textual as tx\n",
    "\n",
    "USER = getuser()\n",
    "TEMP_PATH = f'C:\\\\Users\\\\{USER}\\\\Desktop\\\\script\\\\auto\\\\temp'"
   ]
  },
  {
   "cell_type": "code",
   "execution_count": 2,
   "metadata": {},
   "outputs": [],
   "source": [
    "with open(f'{TEMP_PATH}\\\\jsons\\\\coordinates2.json', 'r') as file: data = json.load(file)"
   ]
  },
  {
   "cell_type": "code",
   "execution_count": 8,
   "metadata": {},
   "outputs": [],
   "source": [
    "new_dict = {}\n",
    "for k, v in data['quests']['pocketfi'].items():\n",
    "    new_dict[k] = [round(v[0]/1.5), round(v[1]/1.054)]"
   ]
  },
  {
   "cell_type": "code",
   "execution_count": 9,
   "metadata": {},
   "outputs": [
    {
     "data": {
      "text/plain": [
       "{'start': [1146, 837],\n",
       " 'claim': [1111, 537],\n",
       " 'tasks': [1080, 726],\n",
       " 'daily': [1128, 569],\n",
       " 'take_reward': [1133, 794]}"
      ]
     },
     "execution_count": 9,
     "metadata": {},
     "output_type": "execute_result"
    }
   ],
   "source": [
    "new_dict"
   ]
  },
  {
   "cell_type": "code",
   "execution_count": 16,
   "metadata": {},
   "outputs": [
    {
     "data": {
      "text/plain": [
       "[1504, 150]"
      ]
     },
     "execution_count": 16,
     "metadata": {},
     "output_type": "execute_result"
    }
   ],
   "source": [
    "data['telegram']['tap_folder']"
   ]
  },
  {
   "cell_type": "code",
   "execution_count": 20,
   "metadata": {},
   "outputs": [],
   "source": [
    "pa.moveTo(data['telegram']['tap_folder'])"
   ]
  },
  {
   "cell_type": "code",
   "execution_count": 22,
   "metadata": {},
   "outputs": [
    {
     "name": "stdout",
     "output_type": "stream",
     "text": [
      "1038 84\n"
     ]
    }
   ],
   "source": [
    "print(round(data['telegram']['tap_folder'][0] *0.69), round(data['telegram']['tap_folder'][1] *0.56))"
   ]
  },
  {
   "cell_type": "code",
   "execution_count": 5,
   "metadata": {},
   "outputs": [],
   "source": [
    "def viz_stat(accounts='all'):\n",
    "    \n",
    "    coef = {\n",
    "        'hexacore': 1.66,\n",
    "        'pocketfi': 1.66,\n",
    "        'snapster': 3,\n",
    "        'yescoin': 1,\n",
    "        'blum': 1,\n",
    "        'tabizoo': 1.66,\n",
    "        'dogs': 3,\n",
    "        'clayton': 1.66,\n",
    "        'nasduck': 1.66,\n",
    "        'yumify': 1.66,\n",
    "        'lost_dogs': 3\n",
    "    }\n",
    "\n",
    "    with open(f'{TEMP_PATH}\\\\jsons\\\\stat.json', 'r') as file: data = pd.read_json(file)\n",
    "    \n",
    "    #transform string value to float\n",
    "    for col in data.columns:\n",
    "        for ind in data.index:\n",
    "\n",
    "            res = list(data[col].loc[ind])\n",
    "            if res == []:\n",
    "                data.loc[ind, col] = 0\n",
    "            else:\n",
    "                if 'e' in ''.join(res):\n",
    "                    raw_res = res.copy()\n",
    "                    for elem in res: raw_res.remove(elem) if 'e' in elem else elem\n",
    "                    data.loc[ind, col] = round(len(raw_res) * 0.3 * coef[ind], 1)\n",
    "                    \n",
    "                else:\n",
    "                    data.loc[ind, col] = round(len(res) * 0.3 * coef[ind], 1)\n",
    "                \n",
    "    #change columns type\n",
    "    for col in data.columns: data[col] = data[col].astype(float)\n",
    "    \n",
    "    if accounts != 'all':\n",
    "        data = data[accounts]\n",
    "\n",
    "    #make picture\n",
    "    fig = plt.figure(figsize=(len(list(data.columns))*2, len(list(data.index))*0.8), dpi=100)\n",
    "    ax = sns.heatmap(data, annot=True, cmap='crest', linewidths=0.05)\n",
    "    ax.set(xlabel='', ylabel='')\n",
    "    ax.xaxis.tick_top()    \n",
    "\n",
    "    #save picture\n",
    "    figure = ax.get_figure()\n",
    "    figure.savefig(f'{TEMP_PATH}\\\\stat.png')\n",
    "    \n",
    "    os.startfile(f'{TEMP_PATH}\\\\stat.png')"
   ]
  },
  {
   "cell_type": "code",
   "execution_count": null,
   "metadata": {},
   "outputs": [],
   "source": []
  }
 ],
 "metadata": {
  "kernelspec": {
   "display_name": "Python 3",
   "language": "python",
   "name": "python3"
  },
  "language_info": {
   "codemirror_mode": {
    "name": "ipython",
    "version": 3
   },
   "file_extension": ".py",
   "mimetype": "text/x-python",
   "name": "python",
   "nbconvert_exporter": "python",
   "pygments_lexer": "ipython3",
   "version": "3.12.4"
  }
 },
 "nbformat": 4,
 "nbformat_minor": 2
}
