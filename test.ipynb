{
 "cells": [
  {
   "cell_type": "code",
   "execution_count": 1,
   "metadata": {},
   "outputs": [],
   "source": [
    "from datetime import datetime as dt\n",
    "import pyautogui as pa\n",
    "import json\n",
    "import os\n",
    "import random\n",
    "import time\n",
    "\n",
    "WORK_PATH = 'C:\\\\Users\\\\AYarin.StreetArt\\\\Desktop\\\\accounts'"
   ]
  },
  {
   "cell_type": "code",
   "execution_count": 11,
   "metadata": {},
   "outputs": [],
   "source": [
    "with open('jsons/coordinates.json', 'r') as f:\n",
    "    coor = json.load(f)"
   ]
  },
  {
   "cell_type": "code",
   "execution_count": 76,
   "metadata": {},
   "outputs": [],
   "source": [
    "def create_basic_dict():\n",
    "    #списки квестов и аккаунтов\n",
    "    acc_list = [elem.replace('.lnk', '')for elem in os.listdir(WORK_PATH)]\n",
    "\n",
    "    with open('jsons/q_a.json', 'r') as f: data = json.load(f)\n",
    "    quest_list = list(data['quests'].values())\n",
    "\n",
    "    #создание нулевого словаря\n",
    "    basic_dict ={}\n",
    "    for acc in acc_list:\n",
    "        for quest in quest_list:\n",
    "            basic_dict.setdefault(acc, {})\n",
    "\n",
    "    for key in basic_dict.keys():\n",
    "        for quest in quest_list:\n",
    "            basic_dict[key][quest] = []\n",
    "            \n",
    "    with open('jsons/stat.json', 'w') as file: json.dump(basic_dict, file)"
   ]
  },
  {
   "cell_type": "code",
   "execution_count": 81,
   "metadata": {},
   "outputs": [],
   "source": [
    "with open('jsons/stat.json', 'r') as file: stat_dict = json.load(file)"
   ]
  },
  {
   "cell_type": "code",
   "execution_count": 1,
   "metadata": {},
   "outputs": [
    {
     "name": "stdout",
     "output_type": "stream",
     "text": [
      "0\n",
      "1\n",
      "2\n",
      "3\n",
      "4\n",
      "5\n"
     ]
    }
   ],
   "source": [
    "for i in range(6):\n",
    "    print(i)"
   ]
  },
  {
   "cell_type": "code",
   "execution_count": 83,
   "metadata": {},
   "outputs": [
    {
     "data": {
      "text/plain": [
       "{'Amanda Hart': {'Hexacore Gaming Universe | AGO': [],\n",
       "  'PocketFi': [],\n",
       "  'snapster trading bot': [],\n",
       "  'Yescoin': [],\n",
       "  'Blum': [],\n",
       "  'TabiZoo': [],\n",
       "  'Dogs': []},\n",
       " 'Amanda Scott': {'Hexacore Gaming Universe | AGO': [],\n",
       "  'PocketFi': [],\n",
       "  'snapster trading bot': [],\n",
       "  'Yescoin': [],\n",
       "  'Blum': [],\n",
       "  'TabiZoo': [],\n",
       "  'Dogs': []},\n",
       " 'Dawn Miller': {'Hexacore Gaming Universe | AGO': [],\n",
       "  'PocketFi': [],\n",
       "  'snapster trading bot': [],\n",
       "  'Yescoin': [],\n",
       "  'Blum': [],\n",
       "  'TabiZoo': [],\n",
       "  'Dogs': []},\n",
       " 'Erica Grant': {'Hexacore Gaming Universe | AGO': [],\n",
       "  'PocketFi': [],\n",
       "  'snapster trading bot': [],\n",
       "  'Yescoin': [],\n",
       "  'Blum': [],\n",
       "  'TabiZoo': [],\n",
       "  'Dogs': []},\n",
       " 'Haley Gallagher': {'Hexacore Gaming Universe | AGO': [],\n",
       "  'PocketFi': [],\n",
       "  'snapster trading bot': [],\n",
       "  'Yescoin': [],\n",
       "  'Blum': [],\n",
       "  'TabiZoo': [],\n",
       "  'Dogs': []},\n",
       " 'Jennifer Wong': {'Hexacore Gaming Universe | AGO': [],\n",
       "  'PocketFi': [],\n",
       "  'snapster trading bot': [],\n",
       "  'Yescoin': [],\n",
       "  'Blum': [],\n",
       "  'TabiZoo': [],\n",
       "  'Dogs': []},\n",
       " 'Jill Barrera': {'Hexacore Gaming Universe | AGO': [],\n",
       "  'PocketFi': [],\n",
       "  'snapster trading bot': [],\n",
       "  'Yescoin': [],\n",
       "  'Blum': [],\n",
       "  'TabiZoo': [],\n",
       "  'Dogs': []},\n",
       " 'Kathleen Smith': {'Hexacore Gaming Universe | AGO': [],\n",
       "  'PocketFi': [],\n",
       "  'snapster trading bot': [],\n",
       "  'Yescoin': [],\n",
       "  'Blum': [],\n",
       "  'TabiZoo': [],\n",
       "  'Dogs': []},\n",
       " 'Melissa Erickson': {'Hexacore Gaming Universe | AGO': [],\n",
       "  'PocketFi': [],\n",
       "  'snapster trading bot': [],\n",
       "  'Yescoin': [],\n",
       "  'Blum': [],\n",
       "  'TabiZoo': [],\n",
       "  'Dogs': []},\n",
       " 'Stacy Norton': {'Hexacore Gaming Universe | AGO': [],\n",
       "  'PocketFi': [],\n",
       "  'snapster trading bot': [],\n",
       "  'Yescoin': [],\n",
       "  'Blum': [],\n",
       "  'TabiZoo': [],\n",
       "  'Dogs': []}}"
      ]
     },
     "execution_count": 83,
     "metadata": {},
     "output_type": "execute_result"
    }
   ],
   "source": [
    "stat_dict"
   ]
  },
  {
   "cell_type": "code",
   "execution_count": 85,
   "metadata": {},
   "outputs": [],
   "source": [
    "def write_stat(account, quest, mode):\n",
    "    \n",
    "    stat_dict[account][quest].append(mode[0].upper())"
   ]
  }
 ],
 "metadata": {
  "kernelspec": {
   "display_name": "Python 3",
   "language": "python",
   "name": "python3"
  },
  "language_info": {
   "codemirror_mode": {
    "name": "ipython",
    "version": 3
   },
   "file_extension": ".py",
   "mimetype": "text/x-python",
   "name": "python",
   "nbconvert_exporter": "python",
   "pygments_lexer": "ipython3",
   "version": "3.12.4"
  }
 },
 "nbformat": 4,
 "nbformat_minor": 2
}
