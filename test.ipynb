{
 "cells": [
  {
   "cell_type": "code",
   "execution_count": 5,
   "metadata": {},
   "outputs": [],
   "source": [
    "from datetime import datetime as dt\n",
    "import pyautogui as pa\n",
    "import json\n",
    "import os\n",
    "import random\n",
    "import time\n",
    "\n",
    "WORK_PATH = 'C:\\\\Users\\\\AYarin.StreetArt\\\\Desktop\\\\accounts'"
   ]
  },
  {
   "cell_type": "code",
   "execution_count": 36,
   "metadata": {},
   "outputs": [],
   "source": [
    "with open('jsons/coordinates.json', 'r') as f:\n",
    "    coor = json.load(f)"
   ]
  },
  {
   "cell_type": "code",
   "execution_count": 45,
   "metadata": {},
   "outputs": [
    {
     "data": {
      "text/plain": [
       "{'blum': {'start': [1714, 924],\n",
       "  'scroll_bar': [1882, 470],\n",
       "  'claim-farming': [1705, 704],\n",
       "  'continue': [1697, 755],\n",
       "  'game_but': [1695, 771],\n",
       "  'first_play': [1810, 661]},\n",
       " 'yes': {'start': [1716, 848],\n",
       "  'start2': [1818, 598],\n",
       "  'get_coin': [1631, 592],\n",
       "  'exit_daily': [1846, 432],\n",
       "  'build': [1800, 739],\n",
       "  'try': [1770, 564],\n",
       "  'back': [1532, 201]},\n",
       " 'pocket': {'start': [1709, 808],\n",
       "  'claim': [1666, 566],\n",
       "  'tasks': [1581, 759],\n",
       "  'daily': [1692, 600],\n",
       "  'take_reward': [1700, 837]},\n",
       " 'snap': {'start': [1714, 924], 'claim': [1811, 451]},\n",
       " 'hexacore': {'start': [1586, 1012],\n",
       "  'push': [1685, 567],\n",
       "  'claim': [1685, 722],\n",
       "  'claim2': [1690, 634],\n",
       "  'enter_level': [1834, 769],\n",
       "  'scroll_bar': [1881, 595],\n",
       "  'level_up': [1705, 712]},\n",
       " 'tabizoo': {'start': [1582, 1013],\n",
       "  'start2': [1820, 598],\n",
       "  'checkin': [1817, 263],\n",
       "  'checkin2': [1691, 700],\n",
       "  'checkin_confirm': [1687, 625],\n",
       "  'claim': [1812, 545],\n",
       "  'claim_confirm': [1709, 664],\n",
       "  'upgrade': [1800, 412],\n",
       "  'upgrade2': [1694, 624],\n",
       "  'upgrade_exit': [1818, 415]},\n",
       " 'dogs': {'start': [1576, 1010]}}"
      ]
     },
     "execution_count": 45,
     "metadata": {},
     "output_type": "execute_result"
    }
   ],
   "source": [
    "coor['quests']"
   ]
  },
  {
   "cell_type": "code",
   "execution_count": 17,
   "metadata": {},
   "outputs": [],
   "source": [
    "acc_list = [elem.replace('.lnk', '')for elem in os.listdir(WORK_PATH)]"
   ]
  },
  {
   "cell_type": "code",
   "execution_count": 24,
   "metadata": {},
   "outputs": [],
   "source": [
    "with open('jsons/q_a.json', 'r') as f: d = json.load(f)"
   ]
  },
  {
   "cell_type": "code",
   "execution_count": 25,
   "metadata": {},
   "outputs": [],
   "source": [
    "qu_list = list(d['quests'].values())"
   ]
  },
  {
   "cell_type": "code",
   "execution_count": 26,
   "metadata": {},
   "outputs": [],
   "source": [
    "data = pd.DataFrame(index=acc_list, columns=qu_list)"
   ]
  },
  {
   "cell_type": "code",
   "execution_count": 34,
   "metadata": {},
   "outputs": [],
   "source": [
    "data['PocketFi'] = 'c'"
   ]
  },
  {
   "cell_type": "code",
   "execution_count": 35,
   "metadata": {},
   "outputs": [
    {
     "data": {
      "text/html": [
       "<div>\n",
       "<style scoped>\n",
       "    .dataframe tbody tr th:only-of-type {\n",
       "        vertical-align: middle;\n",
       "    }\n",
       "\n",
       "    .dataframe tbody tr th {\n",
       "        vertical-align: top;\n",
       "    }\n",
       "\n",
       "    .dataframe thead th {\n",
       "        text-align: right;\n",
       "    }\n",
       "</style>\n",
       "<table border=\"1\" class=\"dataframe\">\n",
       "  <thead>\n",
       "    <tr style=\"text-align: right;\">\n",
       "      <th></th>\n",
       "      <th>Hexacore Gaming Universe | AGO</th>\n",
       "      <th>PocketFi</th>\n",
       "      <th>snapster trading bot</th>\n",
       "      <th>Yescoin</th>\n",
       "      <th>Blum</th>\n",
       "      <th>TabiZoo</th>\n",
       "      <th>Dogs</th>\n",
       "    </tr>\n",
       "  </thead>\n",
       "  <tbody>\n",
       "    <tr>\n",
       "      <th>Amanda Hart</th>\n",
       "      <td>NaN</td>\n",
       "      <td>c</td>\n",
       "      <td>NaN</td>\n",
       "      <td>NaN</td>\n",
       "      <td>NaN</td>\n",
       "      <td>NaN</td>\n",
       "      <td>NaN</td>\n",
       "    </tr>\n",
       "    <tr>\n",
       "      <th>Amanda Scott</th>\n",
       "      <td>NaN</td>\n",
       "      <td>c</td>\n",
       "      <td>NaN</td>\n",
       "      <td>NaN</td>\n",
       "      <td>NaN</td>\n",
       "      <td>NaN</td>\n",
       "      <td>NaN</td>\n",
       "    </tr>\n",
       "    <tr>\n",
       "      <th>Dawn Miller</th>\n",
       "      <td>NaN</td>\n",
       "      <td>c</td>\n",
       "      <td>NaN</td>\n",
       "      <td>NaN</td>\n",
       "      <td>NaN</td>\n",
       "      <td>NaN</td>\n",
       "      <td>NaN</td>\n",
       "    </tr>\n",
       "    <tr>\n",
       "      <th>Erica Grant</th>\n",
       "      <td>NaN</td>\n",
       "      <td>c</td>\n",
       "      <td>NaN</td>\n",
       "      <td>NaN</td>\n",
       "      <td>NaN</td>\n",
       "      <td>NaN</td>\n",
       "      <td>NaN</td>\n",
       "    </tr>\n",
       "    <tr>\n",
       "      <th>Haley Gallagher</th>\n",
       "      <td>NaN</td>\n",
       "      <td>c</td>\n",
       "      <td>NaN</td>\n",
       "      <td>NaN</td>\n",
       "      <td>NaN</td>\n",
       "      <td>NaN</td>\n",
       "      <td>NaN</td>\n",
       "    </tr>\n",
       "    <tr>\n",
       "      <th>Jennifer Wong</th>\n",
       "      <td>NaN</td>\n",
       "      <td>c</td>\n",
       "      <td>NaN</td>\n",
       "      <td>NaN</td>\n",
       "      <td>NaN</td>\n",
       "      <td>NaN</td>\n",
       "      <td>NaN</td>\n",
       "    </tr>\n",
       "    <tr>\n",
       "      <th>Jill Barrera</th>\n",
       "      <td>NaN</td>\n",
       "      <td>c</td>\n",
       "      <td>NaN</td>\n",
       "      <td>NaN</td>\n",
       "      <td>NaN</td>\n",
       "      <td>NaN</td>\n",
       "      <td>NaN</td>\n",
       "    </tr>\n",
       "    <tr>\n",
       "      <th>Kathleen Smith</th>\n",
       "      <td>NaN</td>\n",
       "      <td>c</td>\n",
       "      <td>NaN</td>\n",
       "      <td>NaN</td>\n",
       "      <td>NaN</td>\n",
       "      <td>NaN</td>\n",
       "      <td>NaN</td>\n",
       "    </tr>\n",
       "    <tr>\n",
       "      <th>Melissa Erickson</th>\n",
       "      <td>NaN</td>\n",
       "      <td>c</td>\n",
       "      <td>NaN</td>\n",
       "      <td>NaN</td>\n",
       "      <td>NaN</td>\n",
       "      <td>NaN</td>\n",
       "      <td>NaN</td>\n",
       "    </tr>\n",
       "    <tr>\n",
       "      <th>Stacy Norton</th>\n",
       "      <td>NaN</td>\n",
       "      <td>c</td>\n",
       "      <td>NaN</td>\n",
       "      <td>NaN</td>\n",
       "      <td>NaN</td>\n",
       "      <td>NaN</td>\n",
       "      <td>NaN</td>\n",
       "    </tr>\n",
       "  </tbody>\n",
       "</table>\n",
       "</div>"
      ],
      "text/plain": [
       "                 Hexacore Gaming Universe | AGO PocketFi snapster trading bot  \\\n",
       "Amanda Hart                                 NaN        c                  NaN   \n",
       "Amanda Scott                                NaN        c                  NaN   \n",
       "Dawn Miller                                 NaN        c                  NaN   \n",
       "Erica Grant                                 NaN        c                  NaN   \n",
       "Haley Gallagher                             NaN        c                  NaN   \n",
       "Jennifer Wong                               NaN        c                  NaN   \n",
       "Jill Barrera                                NaN        c                  NaN   \n",
       "Kathleen Smith                              NaN        c                  NaN   \n",
       "Melissa Erickson                            NaN        c                  NaN   \n",
       "Stacy Norton                                NaN        c                  NaN   \n",
       "\n",
       "                 Yescoin Blum TabiZoo Dogs  \n",
       "Amanda Hart          NaN  NaN     NaN  NaN  \n",
       "Amanda Scott         NaN  NaN     NaN  NaN  \n",
       "Dawn Miller          NaN  NaN     NaN  NaN  \n",
       "Erica Grant          NaN  NaN     NaN  NaN  \n",
       "Haley Gallagher      NaN  NaN     NaN  NaN  \n",
       "Jennifer Wong        NaN  NaN     NaN  NaN  \n",
       "Jill Barrera         NaN  NaN     NaN  NaN  \n",
       "Kathleen Smith       NaN  NaN     NaN  NaN  \n",
       "Melissa Erickson     NaN  NaN     NaN  NaN  \n",
       "Stacy Norton         NaN  NaN     NaN  NaN  "
      ]
     },
     "execution_count": 35,
     "metadata": {},
     "output_type": "execute_result"
    }
   ],
   "source": [
    "data"
   ]
  }
 ],
 "metadata": {
  "kernelspec": {
   "display_name": "Python 3",
   "language": "python",
   "name": "python3"
  },
  "language_info": {
   "codemirror_mode": {
    "name": "ipython",
    "version": 3
   },
   "file_extension": ".py",
   "mimetype": "text/x-python",
   "name": "python",
   "nbconvert_exporter": "python",
   "pygments_lexer": "ipython3",
   "version": "3.12.4"
  }
 },
 "nbformat": 4,
 "nbformat_minor": 2
}
