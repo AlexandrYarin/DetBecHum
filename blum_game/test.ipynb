{
 "cells": [
  {
   "cell_type": "code",
   "execution_count": 4,
   "metadata": {},
   "outputs": [],
   "source": [
    "import pyautogui as pa\n",
    "import time\n",
    "import random "
   ]
  },
  {
   "cell_type": "code",
   "execution_count": 29,
   "metadata": {},
   "outputs": [],
   "source": [
    "REGION = (1505, 250, 380, 610)\n",
    "OFFSET = 50\n",
    "DELAY = (0.03, 0.07)\n",
    "CONFIDENCE = 0.6\n",
    "VAL_GAMES = 7\n",
    "GAME_BUTTON = (1695, 771)"
   ]
  },
  {
   "cell_type": "code",
   "execution_count": 27,
   "metadata": {},
   "outputs": [
    {
     "name": "stdout",
     "output_type": "stream",
     "text": [
      "error\n",
      "error\n",
      "error\n",
      "error\n",
      "error\n",
      "error\n",
      "error\n",
      "error\n",
      "error\n",
      "error\n",
      "error\n",
      "error\n",
      "error\n",
      "error\n",
      "error\n",
      "error\n",
      "error\n",
      "error\n",
      "error\n",
      "error\n",
      "error\n",
      "error\n",
      "error\n",
      "error\n",
      "error\n",
      "error\n",
      "error\n",
      "error\n",
      "error\n",
      "error\n",
      "error\n",
      "error\n",
      "error\n",
      "error\n",
      "error\n",
      "error\n",
      "error\n",
      "error\n",
      "error\n",
      "error\n",
      "error\n",
      "error\n",
      "error\n",
      "error\n",
      "error\n"
     ]
    }
   ],
   "source": [
    "for i in range(VAL_GAMES):\n",
    "    pa.click(*GAME_BUTTON)\n",
    "    time.sleep(2)\n",
    "    end_time = time.time() + 28\n",
    "\n",
    "    while time.time() <= end_time:\n",
    "        try:\n",
    "            x, y = pa.locateCenterOnScreen('star4.png', region=REGION, confidence=CONFIDENCE, grayscale=True)\n",
    "            pa.click(x, y + OFFSET)\n",
    "            time.sleep(random.uniform(*DELAY))\n",
    "        except pa.ImageNotFoundException:\n",
    "            print('image not found')\n",
    "            continue\n",
    "    time.sleep(random.randrange(3,6))  "
   ]
  }
 ],
 "metadata": {
  "kernelspec": {
   "display_name": "Python 3",
   "language": "python",
   "name": "python3"
  },
  "language_info": {
   "codemirror_mode": {
    "name": "ipython",
    "version": 3
   },
   "file_extension": ".py",
   "mimetype": "text/x-python",
   "name": "python",
   "nbconvert_exporter": "python",
   "pygments_lexer": "ipython3",
   "version": "3.12.4"
  }
 },
 "nbformat": 4,
 "nbformat_minor": 2
}
