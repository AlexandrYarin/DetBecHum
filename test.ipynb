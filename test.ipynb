{
 "cells": [
  {
   "cell_type": "code",
   "execution_count": 1,
   "metadata": {},
   "outputs": [],
   "source": [
    "from datetime import datetime as dt\n",
    "import pyautogui as pa\n",
    "import json\n",
    "import os\n",
    "import random\n",
    "import time\n",
    "\n",
    "WORK_PATH = 'C:\\\\Users\\\\AYarin.StreetArt\\\\Desktop\\\\accounts'"
   ]
  },
  {
   "cell_type": "code",
   "execution_count": 8,
   "metadata": {},
   "outputs": [
    {
     "name": "stdout",
     "output_type": "stream",
     "text": [
      "none\n"
     ]
    }
   ],
   "source": [
    "try:\n",
    "    res = input('Сколько игр нужно сделать? >>> ')\n",
    "    if res is None:\n",
    "        print('yes')\n",
    "    else:\n",
    "        print('none')\n",
    "    r = map(int, res.split(' ')) #кол-во игр которое нужно сыграть\n",
    "except Exception:\n",
    "    print('error')"
   ]
  },
  {
   "cell_type": "code",
   "execution_count": 3,
   "metadata": {},
   "outputs": [],
   "source": [
    "pa.click(1846, y=432)"
   ]
  }
 ],
 "metadata": {
  "kernelspec": {
   "display_name": "Python 3",
   "language": "python",
   "name": "python3"
  },
  "language_info": {
   "codemirror_mode": {
    "name": "ipython",
    "version": 3
   },
   "file_extension": ".py",
   "mimetype": "text/x-python",
   "name": "python",
   "nbconvert_exporter": "python",
   "pygments_lexer": "ipython3",
   "version": "3.12.4"
  }
 },
 "nbformat": 4,
 "nbformat_minor": 2
}
